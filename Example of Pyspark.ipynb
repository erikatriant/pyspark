{
 "cells": [
  {
   "cell_type": "code",
   "execution_count": 58,
   "id": "bb1d6887",
   "metadata": {},
   "outputs": [],
   "source": [
    "from pyspark.sql import SparkSession\n",
    "#session builder\n",
    "spark = SparkSession.builder.appName('example').getOrCreate()"
   ]
  },
  {
   "cell_type": "code",
   "execution_count": 59,
   "id": "4516f91d",
   "metadata": {},
   "outputs": [],
   "source": [
    "#read the dataset\n",
    "data = spark.read.csv('test.csv', header = True, inferSchema = True)"
   ]
  },
  {
   "cell_type": "code",
   "execution_count": 60,
   "id": "e73d64c7",
   "metadata": {},
   "outputs": [
    {
     "name": "stdout",
     "output_type": "stream",
     "text": [
      "+------+---+----------+------+\n",
      "|  Name|Age|Experience|Salary|\n",
      "+------+---+----------+------+\n",
      "|  Mary| 27|         2| 15000|\n",
      "|George| 35|         7| 25000|\n",
      "| Chloe| 50|        21| 40000|\n",
      "|  Paul| 24|         3| 20000|\n",
      "|  Jane| 21|         1| 10000|\n",
      "| Steve| 31|        10| 30000|\n",
      "|  Kate| 45|        20| 40000|\n",
      "+------+---+----------+------+\n",
      "\n"
     ]
    }
   ],
   "source": [
    "data.show()"
   ]
  },
  {
   "cell_type": "code",
   "execution_count": 61,
   "id": "6a89c6d4",
   "metadata": {},
   "outputs": [
    {
     "name": "stdout",
     "output_type": "stream",
     "text": [
      "root\n",
      " |-- Name: string (nullable = true)\n",
      " |-- Age: integer (nullable = true)\n",
      " |-- Experience: integer (nullable = true)\n",
      " |-- Salary: integer (nullable = true)\n",
      "\n"
     ]
    }
   ],
   "source": [
    "data.printSchema()"
   ]
  },
  {
   "cell_type": "code",
   "execution_count": 62,
   "id": "2c992471",
   "metadata": {},
   "outputs": [
    {
     "data": {
      "text/plain": [
       "['Name', 'Age', 'Experience', 'Salary']"
      ]
     },
     "execution_count": 62,
     "metadata": {},
     "output_type": "execute_result"
    }
   ],
   "source": [
    "data.columns"
   ]
  },
  {
   "cell_type": "code",
   "execution_count": 63,
   "id": "92d62031",
   "metadata": {},
   "outputs": [],
   "source": [
    "from pyspark.ml.feature import VectorAssembler\n",
    "\n",
    "fa = VectorAssembler(inputCols= ['Age','Experience'], outputCol='f_independent')"
   ]
  },
  {
   "cell_type": "code",
   "execution_count": 64,
   "id": "dc2c63bb",
   "metadata": {},
   "outputs": [],
   "source": [
    "output = fa.transform(training)"
   ]
  },
  {
   "cell_type": "code",
   "execution_count": 65,
   "id": "9ca2cd0a",
   "metadata": {},
   "outputs": [
    {
     "name": "stdout",
     "output_type": "stream",
     "text": [
      "+------+---+----------+------+-------------+\n",
      "|  Name|Age|Experience|Salary|f_independent|\n",
      "+------+---+----------+------+-------------+\n",
      "|  Mary| 27|         2| 15000|   [27.0,2.0]|\n",
      "|George| 35|         7| 25000|   [35.0,7.0]|\n",
      "| Chloe| 50|        21| 40000|  [50.0,21.0]|\n",
      "|  Paul| 24|         3| 20000|   [24.0,3.0]|\n",
      "|  Jane| 21|         1| 10000|   [21.0,1.0]|\n",
      "| Steve| 31|        10| 30000|  [31.0,10.0]|\n",
      "|  Kate| 45|        20| 40000|  [45.0,20.0]|\n",
      "+------+---+----------+------+-------------+\n",
      "\n"
     ]
    }
   ],
   "source": [
    "output.show()"
   ]
  },
  {
   "cell_type": "code",
   "execution_count": 66,
   "id": "aa2d1c3f",
   "metadata": {},
   "outputs": [
    {
     "data": {
      "text/plain": [
       "['Name', 'Age', 'Experience', 'Salary', 'f_independent']"
      ]
     },
     "execution_count": 66,
     "metadata": {},
     "output_type": "execute_result"
    }
   ],
   "source": [
    "output.columns"
   ]
  },
  {
   "cell_type": "code",
   "execution_count": 67,
   "id": "ad9ac8d8",
   "metadata": {},
   "outputs": [],
   "source": [
    "final = output.select('f_independent','Salary')"
   ]
  },
  {
   "cell_type": "code",
   "execution_count": 68,
   "id": "94da7e76",
   "metadata": {},
   "outputs": [
    {
     "name": "stdout",
     "output_type": "stream",
     "text": [
      "+-------------+------+\n",
      "|f_independent|Salary|\n",
      "+-------------+------+\n",
      "|   [27.0,2.0]| 15000|\n",
      "|   [35.0,7.0]| 25000|\n",
      "|  [50.0,21.0]| 40000|\n",
      "|   [24.0,3.0]| 20000|\n",
      "|   [21.0,1.0]| 10000|\n",
      "|  [31.0,10.0]| 30000|\n",
      "|  [45.0,20.0]| 40000|\n",
      "+-------------+------+\n",
      "\n"
     ]
    }
   ],
   "source": [
    "final.show()"
   ]
  },
  {
   "cell_type": "code",
   "execution_count": 69,
   "id": "e023e4de",
   "metadata": {},
   "outputs": [],
   "source": [
    "from pyspark.ml.regression import LinearRegression\n",
    "\n",
    "#split data (final) in train and test\n",
    "train_data, test_data = final.randomSplit([0.0,0.40])\n",
    "#Linear Regression\n",
    "lr = LinearRegression(featuresCol='f_independent', labelCol='Salary')\n",
    "lr = lr.fit(train_data)"
   ]
  },
  {
   "cell_type": "code",
   "execution_count": 70,
   "id": "c62290e9",
   "metadata": {},
   "outputs": [
    {
     "data": {
      "text/plain": [
       "DenseVector([1613.8889, -225.0])"
      ]
     },
     "execution_count": 70,
     "metadata": {},
     "output_type": "execute_result"
    }
   ],
   "source": [
    "lr.coefficients"
   ]
  },
  {
   "cell_type": "code",
   "execution_count": 71,
   "id": "592d8431",
   "metadata": {},
   "outputs": [
    {
     "data": {
      "text/plain": [
       "-28125.0"
      ]
     },
     "execution_count": 71,
     "metadata": {},
     "output_type": "execute_result"
    }
   ],
   "source": [
    "lr.intercept"
   ]
  },
  {
   "cell_type": "code",
   "execution_count": 72,
   "id": "264cac0d",
   "metadata": {},
   "outputs": [],
   "source": [
    "#prediction\n",
    "\n",
    "pred = lr.evaluate(test_data)"
   ]
  },
  {
   "cell_type": "code",
   "execution_count": 73,
   "id": "ed3f33c8",
   "metadata": {},
   "outputs": [
    {
     "name": "stdout",
     "output_type": "stream",
     "text": [
      "+-------------+------+------------------+\n",
      "|f_independent|Salary|        prediction|\n",
      "+-------------+------+------------------+\n",
      "|   [21.0,1.0]| 10000| 5541.666666666664|\n",
      "|   [24.0,3.0]| 20000| 9933.333333333336|\n",
      "|  [31.0,10.0]| 30000|19655.555555555562|\n",
      "|   [35.0,7.0]| 25000|26786.111111111117|\n",
      "|  [50.0,21.0]| 40000| 47844.44444444447|\n",
      "+-------------+------+------------------+\n",
      "\n"
     ]
    }
   ],
   "source": [
    "pred.predictions.show()"
   ]
  },
  {
   "cell_type": "code",
   "execution_count": 74,
   "id": "fb54f1cc",
   "metadata": {},
   "outputs": [
    {
     "data": {
      "text/plain": [
       "6900.000000000005"
      ]
     },
     "execution_count": 74,
     "metadata": {},
     "output_type": "execute_result"
    }
   ],
   "source": [
    "#MAE\n",
    "pred.meanAbsoluteError "
   ]
  },
  {
   "cell_type": "code",
   "execution_count": 75,
   "id": "b754aa21",
   "metadata": {},
   "outputs": [
    {
     "data": {
      "text/plain": [
       "58589509.259259306"
      ]
     },
     "execution_count": 75,
     "metadata": {},
     "output_type": "execute_result"
    }
   ],
   "source": [
    "#MSE\n",
    "pred.meanSquaredError"
   ]
  }
 ],
 "metadata": {
  "kernelspec": {
   "display_name": "Python 3 (ipykernel)",
   "language": "python",
   "name": "python3"
  },
  "language_info": {
   "codemirror_mode": {
    "name": "ipython",
    "version": 3
   },
   "file_extension": ".py",
   "mimetype": "text/x-python",
   "name": "python",
   "nbconvert_exporter": "python",
   "pygments_lexer": "ipython3",
   "version": "3.10.4"
  }
 },
 "nbformat": 4,
 "nbformat_minor": 5
}
